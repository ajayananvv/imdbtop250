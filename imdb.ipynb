{
  "nbformat": 4,
  "nbformat_minor": 0,
  "metadata": {
    "colab": {
      "provenance": [],
      "authorship_tag": "ABX9TyNv+Fhl9Yn8+ydgse24PsVT",
      "include_colab_link": true
    },
    "kernelspec": {
      "name": "python3",
      "display_name": "Python 3"
    },
    "language_info": {
      "name": "python"
    }
  },
  "cells": [
    {
      "cell_type": "markdown",
      "metadata": {
        "id": "view-in-github",
        "colab_type": "text"
      },
      "source": [
        "<a href=\"https://colab.research.google.com/github/ajayananvv/imdbtop250/blob/main/imdb.ipynb\" target=\"_parent\"><img src=\"https://colab.research.google.com/assets/colab-badge.svg\" alt=\"Open In Colab\"/></a>"
      ]
    },
    {
      "cell_type": "code",
      "execution_count": null,
      "metadata": {
        "id": "YKkDH8tSOWU0"
      },
      "outputs": [],
      "source": [
        "import pandas as pd\n",
        "import requests\n",
        "from bs4 import BeautifulSoup\n",
        "import numpy as np\n",
        "import openpyxl"
      ]
    },
    {
      "cell_type": "code",
      "source": [
        "wb = openpyxl.Workbook()\n",
        "ws=wb.active\n",
        "ws.title=\"top rated movie names\"\n",
        "ws.append(['name of movie','rating out of 10'])"
      ],
      "metadata": {
        "id": "KRA0AL7jgPit"
      },
      "execution_count": null,
      "outputs": []
    },
    {
      "cell_type": "code",
      "source": [
        "url=\"https://www.imdb.com/chart/top/?ref_=nv_mv_250\"\n",
        "headers={'User-Agent': 'Mozilla/5.0 (Windows NT 10.0; Win64; x64) AppleWebKit/537.36 (KHTML, like Gecko) Chrome/118.0.0.0 Safari/537.36'}\n",
        "page=requests.get(url,headers=headers)\n",
        "page.content"
      ],
      "metadata": {
        "id": "5QGdnS_8PORx"
      },
      "execution_count": null,
      "outputs": []
    },
    {
      "cell_type": "code",
      "source": [
        "soup = BeautifulSoup(page.content, 'html.parser')"
      ],
      "metadata": {
        "id": "0xz-gH_sQWGB"
      },
      "execution_count": null,
      "outputs": []
    },
    {
      "cell_type": "code",
      "source": [
        "from requests.models import ReadTimeoutError\n",
        "movies = soup.find('ul',class_=\"ipc-metadata-list ipc-metadata-list--dividers-between sc-3f13560f-0 sTTRj compact-list-view ipc-metadata-list--base\").find_all('li')\n",
        "for movie in movies:\n",
        "    name=movie.find('h3', class_=\"ipc-title__text\").string\n",
        "    rating = movie.find('span', class_=\"ipc-rating-star ipc-rating-star--base ipc-rating-star--imdb ratingGroup--imdb-rating\").text[0:3]\n",
        "    ws.append([name,rating])\n",
        "wb.save('top2.xlsx')\n"
      ],
      "metadata": {
        "id": "mwIAWpvFt-a0"
      },
      "execution_count": null,
      "outputs": []
    },
    {
      "cell_type": "code",
      "source": [],
      "metadata": {
        "id": "Zc-IA4jSu40e"
      },
      "execution_count": null,
      "outputs": []
    }
  ]
}